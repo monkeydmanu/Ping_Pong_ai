{
 "cells": [
  {
   "cell_type": "markdown",
   "id": "11c84a4f",
   "metadata": {},
   "source": [
    "## Vitesse angulaire - collisions bords"
   ]
  },
  {
   "cell_type": "markdown",
   "id": "faa6b7d2",
   "metadata": {},
   "source": [
    "🔹 Coin gauche (bon sens = négatif)\n",
    "\n",
    "| Ratio | -200 | -100 | -50  | 50  | 100 | 200 |\n",
    "| ----- | ---- | ---- | ---- | --- | --- | --- |\n",
    "| 0     | -200 | -100 | -50  | 50  | 100 | 200 |\n",
    "| 0.25  | -225 | -125 | -62  | 10  | 40  | 90  |\n",
    "| 0.5   | -250 | -150 | -75  | -5  | 20  | 60  |\n",
    "| 0.75  | -275 | -175 | -87  | -20 | 10  | 30  |\n",
    "| 1     | -300 | -200 | -100 | -40 | 0   | 0   |\n",
    "\n",
    "Observations :\n",
    "\n",
    "Spin déjà négatif → augmente avec ratio (de -200 → -300 pour ratio=1)\n",
    "\n",
    "Spin positif → tend vers négatif progressivement, devient négatif si ratio grand"
   ]
  },
  {
   "cell_type": "markdown",
   "id": "2e056c3d",
   "metadata": {},
   "source": []
  },
  {
   "cell_type": "markdown",
   "id": "66b02322",
   "metadata": {},
   "source": [
    "🔹 Coin droit (bon sens = positif)\n",
    "\n",
    "| Ratio | -200 | -100 | -50 | 50  | 100 | 200 |\n",
    "| ----- | ---- | ---- | --- | --- | --- | --- |\n",
    "| 0     | -200 | -100 | -50 | 50  | 100 | 200 |\n",
    "| 0.25  | -150 | -60  | -25 | 62  | 125 | 250 |\n",
    "| 0.5   | -100 | -20  | 0   | 75  | 150 | 300 |\n",
    "| 0.75  | -50  | 10   | 12  | 87  | 175 | 350 |\n",
    "| 1     | 0    | 40   | 25  | 100 | 200 | 400 |\n",
    "\n",
    "Observations :\n",
    "\n",
    "Spin déjà positif → augmente avec ratio (50 → 100, 200 → 400)\n",
    "\n",
    "Spin négatif → tend progressivement vers positif avec ratio"
   ]
  },
  {
   "cell_type": "markdown",
   "id": "1c2415dd",
   "metadata": {},
   "source": []
  },
  {
   "cell_type": "markdown",
   "id": "e889a4a8",
   "metadata": {},
   "source": [
    "## Vélocité - collisions bords"
   ]
  },
  {
   "cell_type": "markdown",
   "id": "737ec5f1",
   "metadata": {},
   "source": [
    "🔹 Coin gauche\n",
    "\n",
    "| Ratio | vel_x (horiz) | vel_y (vert) |\n",
    "| ----- | ------------- | ------------ |\n",
    "| 0     | 0             | 200          |\n",
    "| 0.25  | -50           | 180          |\n",
    "| 0.5   | -100          | 150          |\n",
    "| 0.75  | -150          | 125          |\n",
    "| 1     | -200          | 100          |\n",
    "\n",
    "Observations :\n",
    "\n",
    "Plus on touche près du bord → plus de vitesse horizontale → plus faible vitesse verticale\n",
    "\n",
    "Vel_x négatif → balle va vers la gauche\n",
    "\n",
    "Vel_y positive → rebond vertical classique mais réduit"
   ]
  },
  {
   "cell_type": "markdown",
   "id": "b9587934",
   "metadata": {},
   "source": []
  },
  {
   "cell_type": "markdown",
   "id": "0a614845",
   "metadata": {},
   "source": [
    "🔹 Coin droit\n",
    "\n",
    "| Ratio | vel_x (horiz) | vel_y (vert) |\n",
    "| ----- | ------------- | ------------ |\n",
    "| 0     | 0             | 200          |\n",
    "| 0.25  | 50            | 180          |\n",
    "| 0.5   | 100           | 150          |\n",
    "| 0.75  | 150           | 125          |\n",
    "| 1     | 200           | 100          |\n",
    "\n",
    "Observations :\n",
    "\n",
    "Même logique mais vel_x positif → balle va vers la droite\n",
    "\n",
    "Vel_y diminue proportionnellement au ratio → balle rebondit moins haut quand elle touche le bord"
   ]
  },
  {
   "cell_type": "markdown",
   "id": "e335e7c1",
   "metadata": {},
   "source": []
  },
  {
   "cell_type": "markdown",
   "id": "41e4aa1e",
   "metadata": {},
   "source": [
    "## Pour le filet vertical"
   ]
  },
  {
   "cell_type": "markdown",
   "id": "8ea459a3",
   "metadata": {},
   "source": [
    "| vel_x_init | vel_y_init | angular_speed | vel_x_after | vel_y_after | angular_speed_after |\n",
    "| ---------- | ---------- | ------------- | ----------- | ----------- | ------------------- |\n",
    "| 5          | 2          | -300          | 3.0         | 3.6         | -240                |\n",
    "| 5          | 2          | -100          | 4.0         | 2.4         | -80                 |\n",
    "| 5          | 2          | 0             | 4.5         | 2.0         | 0                   |\n",
    "| 5          | 2          | 100           | 4.0         | -2.4        | 80                  |\n",
    "| 5          | 2          | 300           | 3.0         | -3.6        | 240                 |\n"
   ]
  },
  {
   "cell_type": "markdown",
   "id": "82760193",
   "metadata": {},
   "source": []
  }
 ],
 "metadata": {
  "language_info": {
   "name": "python"
  }
 },
 "nbformat": 4,
 "nbformat_minor": 5
}
